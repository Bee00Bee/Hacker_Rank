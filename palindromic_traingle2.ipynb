{
 "cells": [
  {
   "cell_type": "code",
   "execution_count": 1,
   "id": "f77160b9-be05-48d3-b965-5c637bd5cd6b",
   "metadata": {},
   "outputs": [
    {
     "name": "stdin",
     "output_type": "stream",
     "text": [
      " 5\n"
     ]
    },
    {
     "name": "stdout",
     "output_type": "stream",
     "text": [
      "1\n",
      "121\n",
      "12321\n",
      "1234321\n",
      "123454321\n"
     ]
    }
   ],
   "source": [
    "def palindromic(n):\n",
    "    m = 0\n",
    "    for i in range(0, n):\n",
    "        k = (10**i+m)\n",
    "        print(k*k)\n",
    "        m = 10**i+m\n",
    "        \n",
    "        \n",
    "if __name__=='__main__':\n",
    "    n = int(input())\n",
    "    palindromic(n)"
   ]
  },
  {
   "cell_type": "code",
   "execution_count": 5,
   "id": "01bb9ab4-6331-4678-92f1-901380cd810d",
   "metadata": {},
   "outputs": [
    {
     "ename": "SyntaxError",
     "evalue": "invalid syntax (2915642261.py, line 2)",
     "output_type": "error",
     "traceback": [
      "\u001b[0;36m  File \u001b[0;32m\"/tmp/ipykernel_35598/2915642261.py\"\u001b[0;36m, line \u001b[0;32m2\u001b[0m\n\u001b[0;31m    [k = (10**i+m); m = 10**i+m; print(k*k) for i in range(0, n)]\u001b[0m\n\u001b[0m       ^\u001b[0m\n\u001b[0;31mSyntaxError\u001b[0m\u001b[0;31m:\u001b[0m invalid syntax\n"
     ]
    }
   ],
   "source": [
    "m=0;\n",
    "[k = (10**i+m); m = 10**i+m; print(k*k) for i in range(0, n)]"
   ]
  },
  {
   "cell_type": "code",
   "execution_count": null,
   "id": "41978d73-73d4-4e41-8b67-5b1f0bed3c17",
   "metadata": {},
   "outputs": [],
   "source": []
  }
 ],
 "metadata": {
  "kernelspec": {
   "display_name": "Python 3 (ipykernel)",
   "language": "python",
   "name": "python3"
  },
  "language_info": {
   "codemirror_mode": {
    "name": "ipython",
    "version": 3
   },
   "file_extension": ".py",
   "mimetype": "text/x-python",
   "name": "python",
   "nbconvert_exporter": "python",
   "pygments_lexer": "ipython3",
   "version": "3.9.7"
  }
 },
 "nbformat": 4,
 "nbformat_minor": 5
}
